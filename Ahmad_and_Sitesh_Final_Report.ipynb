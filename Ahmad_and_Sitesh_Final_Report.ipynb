{
 "metadata": {
  "name": "",
  "signature": "sha256:53a67487af5df1fa9bb23c192c316c06fa9f285169071d66958ba5cd3aa6c7e3"
 },
 "nbformat": 3,
 "nbformat_minor": 0,
 "worksheets": [
  {
   "cells": [
    {
     "cell_type": "markdown",
     "metadata": {},
     "source": [
      "#<span style=\"color:green\">Numerical Analysis and Optimization with Python</span>\n",
      "\n",
      "##Report submitted by \n",
      "\n",
      "\n",
      "> Sitesh Indra\n",
      "\n",
      "> Ahmad Hassan\n",
      "\n"
     ]
    },
    {
     "cell_type": "markdown",
     "metadata": {},
     "source": [
      "-----------------\n",
      "##Index\n",
      "###This report has been devided into four sections \n",
      "\n",
      "####Section 1: (LU and QR Decomposition) \n",
      "[1.1] LU Decompostion.\n",
      "\n",
      "[1.2] QR Decomposition.\n",
      "\n",
      "\n",
      "####Section 2: (Jacobi and Gauss-Siedel methods) \n",
      "[2.1] Jacobian method.\n",
      "\n",
      "[2.2] Gauss-Seidel.\n",
      "\n",
      "[2.3] Study of convergence.\n",
      "\n",
      "\n",
      "####Section 3: (Study of Optimization Algorithm) \n",
      "[3.1] 3D curve plot.\n",
      "\n",
      "[3.2] Optimization Algorithm.\n",
      "\n",
      "[3.3] Performance analysis of Optimization Algorithm. \n",
      "\n",
      "[3.4] Relative comparision with each other.\n",
      "\n",
      "\n",
      "####Section 4 :\n",
      "\n",
      "[1]  Acknowledgement.\n",
      " \n"
     ]
    },
    {
     "cell_type": "code",
     "collapsed": false,
     "input": [],
     "language": "python",
     "metadata": {},
     "outputs": []
    },
    {
     "cell_type": "markdown",
     "metadata": {},
     "source": [
      "#Section 1: (LU and QR Decomposition) \n",
      "> This section Implements LU and QR decomposition.\n",
      "> Later in this section we deal with convergence of algorithm, implemented for each LU and QR"
     ]
    },
    {
     "cell_type": "markdown",
     "metadata": {},
     "source": [
      "##[1.1] LU Decompostion"
     ]
    },
    {
     "cell_type": "markdown",
     "metadata": {},
     "source": [
      "###[1.1.a] LU decomposition (Crouts Algoritnm)"
     ]
    },
    {
     "cell_type": "markdown",
     "metadata": {},
     "source": [
      "> In this subsection we have written code for LU decompostion.\n",
      "> Although there are various algorithm for LU decompostion like Doolittle algorithm,\n",
      "Crout algorithm etc here we are using Crout algorithm for our python implimentation."
     ]
    },
    {
     "cell_type": "markdown",
     "metadata": {},
     "source": [
      "#### Python code........."
     ]
    },
    {
     "cell_type": "code",
     "collapsed": false,
     "input": [
      "#Print matrix in standard Matrix form\n",
      "import numpy as np\n",
      "\n",
      "# LU decomposition by Crout algorithm \n",
      "def luDecomposition(A):\n",
      "    L = [[0 for i in range(len(A))] for j in range(len(A))]  #Assigining default L with all zeros \n",
      "    U = [[0 for i in range(len(A))] for j in range(len(A))]  #Assigining default U with all zeros\n",
      "    try:\n",
      "        for i in range(0, len(A)):\n",
      "            L[i][0] = A[i][0]         #L:deside 1 column.\n",
      "            U[0][i] = A[0][i]/A[0][0] #U:deside 1 row.\n",
      "        for k in range(1, len(A)):\n",
      "            for i in range(0, k):\n",
      "                L[i][k] = U[k][i] = 0.0 #initialize the element to be updated.\n",
      "            for i in range(k, len(A)):\n",
      "                L[i][k] = A[i][k]\n",
      "                for m in range(0, k):\n",
      "                    L[i][k] -= L[i][m] * U[m][k]\n",
      "            U[k][k] = 1.0               #U:diagonal element is 1\n",
      "            for i in range(k + 1, len(A)):\n",
      "                U[k][i] = A[k][i]\n",
      "                for m in range(0, k):\n",
      "                    U[k][i] -= L[k][m] * U[m][i]\n",
      "                U[k][i] /= L[k][k]          #If denominator is zeros then error will be catched by try except block\n",
      "    except ZeroDivisionError:\n",
      "        print \"This matrix can't be represented as LU Decomposition.\"\n",
      "    return L, U\n",
      "\n",
      "def printMatrix(myMatrix):       #Function which print matrix in standard form\n",
      "    for i in myMatrix:\n",
      "        print i\n",
      "\n",
      "\n",
      "\n",
      "\n",
      "A = [\n",
      "    [8.0, 16.0, 24.0, 20.0],\n",
      "    [2.0, 7.0, 12.0, 17.0],\n",
      "    [6.0, 17.0, 32.0, 59.0],\n",
      "    [7.0, 22.0, 46.0, 105.0]\n",
      "]\n",
      "\n",
      "print \"Matrix A : \"\n",
      "printMatrix(A)\n",
      "[L, U] = luDecomposition(A)\n",
      "print \"Matrix L (Lower Triangular Matrix): \"\n",
      "printMatrix(L)\n",
      "print \"Matrix U (Upper Uriangular Matrix): \"\n",
      "printMatrix(U)"
     ],
     "language": "python",
     "metadata": {},
     "outputs": [
      {
       "output_type": "stream",
       "stream": "stdout",
       "text": [
        "Matrix A : \n",
        "[8.0, 16.0, 24.0, 20.0]\n",
        "[2.0, 7.0, 12.0, 17.0]\n",
        "[6.0, 17.0, 32.0, 59.0]\n",
        "[7.0, 22.0, 46.0, 105.0]\n",
        "Matrix L (Lower Triangular Matrix): \n",
        "[8.0, 0.0, 0.0, 0.0]\n",
        "[2.0, 3.0, 0.0, 0.0]\n",
        "[6.0, 5.0, 4.0, 0.0]\n",
        "[7.0, 8.0, 9.0, 1.5]\n",
        "Matrix U (Upper Uriangular Matrix): \n",
        "[1.0, 2.0, 3.0, 2.5]\n",
        "[0.0, 1.0, 2.0, 4.0]\n",
        "[0.0, 0.0, 1.0, 6.0]\n",
        "[0.0, 0.0, 0.0, 1.0]\n"
       ]
      }
     ],
     "prompt_number": 77
    },
    {
     "cell_type": "code",
     "collapsed": false,
     "input": [
      "import time\n",
      "\n",
      "def main():\n",
      "    SIZE = 100\n",
      "    TRIALS = 5\n",
      "\n",
      "    subsup = np.random.rand(SIZE - 1)\n",
      "    diagonal = np.random.rand(SIZE)\n",
      "    T = np.diag(subsup, 1) + np.diag(subsup, -1) + np.diag(diagonal)\n",
      "    print T\n",
      "\n",
      "        \n",
      "    print \"excution time for LU decomposition,\",SIZE ,\"X\", SIZE,\"random triDigonal Matrix\"    \n",
      "    for _ in xrange(TRIALS):\n",
      "        tic = time.clock()\n",
      "        luDecomposition(T)\n",
      "        print time.clock() - tic\n",
      "        \n",
      "\n",
      "if __name__ == '__main__':\n",
      "    main()"
     ],
     "language": "python",
     "metadata": {},
     "outputs": [
      {
       "output_type": "stream",
       "stream": "stdout",
       "text": [
        "[[ 0.74099411  0.87726925  0.         ...,  0.          0.          0.        ]\n",
        " [ 0.87726925  0.46090591  0.95985745 ...,  0.          0.          0.        ]\n",
        " [ 0.          0.95985745  0.63212444 ...,  0.          0.          0.        ]\n",
        " ..., \n",
        " [ 0.          0.          0.         ...,  0.06315811  0.9913303   0.        ]\n",
        " [ 0.          0.          0.         ...,  0.9913303   0.9443963\n",
        "   0.89952589]\n",
        " [ 0.          0.          0.         ...,  0.          0.89952589\n",
        "   0.70335882]]\n",
        "excution time for LU decomposition, 100 X 100 random triDigonal Matrix\n",
        "0.497005"
       ]
      },
      {
       "output_type": "stream",
       "stream": "stdout",
       "text": [
        "\n",
        "0.304375"
       ]
      },
      {
       "output_type": "stream",
       "stream": "stdout",
       "text": [
        "\n",
        "0.302552"
       ]
      },
      {
       "output_type": "stream",
       "stream": "stdout",
       "text": [
        "\n",
        "0.288363"
       ]
      },
      {
       "output_type": "stream",
       "stream": "stdout",
       "text": [
        "\n",
        "0.29862"
       ]
      },
      {
       "output_type": "stream",
       "stream": "stdout",
       "text": [
        "\n"
       ]
      }
     ],
     "prompt_number": 78
    },
    {
     "cell_type": "markdown",
     "metadata": {},
     "source": [
      "##[1.2] QR Decomposition"
     ]
    },
    {
     "cell_type": "markdown",
     "metadata": {},
     "source": [
      "> In this sub-subsection we have written code for QR decompostion.\n",
      "> We are trying to present three demonstration for QR decompostion. 1st demonstration uses standard library 2nd is python code written for QR implementation from scratch (Householder Algorithm) and lastly we demonstarte QR decompostion for special type of tri-diagonal matrix. In last demonstration we try to conclude that for special type of matrices conventional QR decomposition algorithm is rather slower and we can achieve better perfomance with other existing algorithm like in case of tri diagonal matrix. "
     ]
    },
    {
     "cell_type": "markdown",
     "metadata": {},
     "source": [
      "###[1.2.a] QR decomposition (Standard library implimentation using the Gram\u2013Schmidt process)"
     ]
    },
    {
     "cell_type": "markdown",
     "metadata": {},
     "source": [
      "####Python code.........."
     ]
    },
    {
     "cell_type": "code",
     "collapsed": false,
     "input": [
      "import numpy\n",
      "X = [\n",
      "    [12, -51, 4],\n",
      "    [6, 167, -68],\n",
      "    [-4, 24, -41]\n",
      "]\n",
      "\n",
      "[Q, R] = numpy.linalg.qr(X) \n",
      "\n",
      "print \"X Matrix st X = QR\"\n",
      "print numpy.mat(X)\n",
      "\n",
      "print \"Q Matrix\"\n",
      "print Q\n",
      "\n",
      "print \"R matrix\"\n",
      "print R\n"
     ],
     "language": "python",
     "metadata": {},
     "outputs": [
      {
       "output_type": "stream",
       "stream": "stdout",
       "text": [
        "X Matrix st X = QR\n",
        "[[ 12 -51   4]\n",
        " [  6 167 -68]\n",
        " [ -4  24 -41]]\n",
        "Q Matrix\n",
        "[[-0.85714286  0.39428571  0.33142857]\n",
        " [-0.42857143 -0.90285714 -0.03428571]\n",
        " [ 0.28571429 -0.17142857  0.94285714]]\n",
        "R matrix\n",
        "[[ -14.  -21.   14.]\n",
        " [   0. -175.   70.]\n",
        " [  -0.    0.  -35.]]\n"
       ]
      }
     ],
     "prompt_number": 79
    },
    {
     "cell_type": "markdown",
     "metadata": {},
     "source": [
      "###[1.2.b] QR decomposition (Using the Householder Reflections )"
     ]
    },
    {
     "cell_type": "markdown",
     "metadata": {},
     "source": [
      "####There are a few different algorithms for QR Decomposition. We will outline the method of Householder Reflections, which is known to be more numerically stable the the alternative Gramm-Schmidt method. "
     ]
    },
    {
     "cell_type": "markdown",
     "metadata": {},
     "source": [
      "####Python code.........."
     ]
    },
    {
     "cell_type": "code",
     "collapsed": false,
     "input": [
      "from math import sqrt\n",
      "from pprint import pprint\n",
      "\n",
      "def Q_i(Q_min, i, j, k):\n",
      "    \"\"\"Populate Q_t matrix by left-top padding the matrix Q                                                      \n",
      "    with elements from the identity matrix.\"\"\"\n",
      "    if i < k or j < k:\n",
      "        return float(i == j)\n",
      "    else:\n",
      "        return Q_min[i-k][j-k]\n",
      "\n",
      "def trans_matrix(M):\n",
      "    \"\"\"Take the transpose of a matrix.\"\"\"\n",
      "    n = len(M)\n",
      "    return [[ M[i][j] for i in range(n)] for j in range(n)]\n",
      "\n",
      "def norm(x):\n",
      "    \"\"\"Return the Euclidean norm of the vector x.\"\"\"\n",
      "    print x\n",
      "    #return sqrt(sum([x_i**2 for x_i in x]))\n",
      "    return sqrt(np.sum([x_i**2 for x_i in x]))\n",
      "\n",
      "def mult_matrix(M, N):\n",
      "    \"\"\"Multiply square matrices of same dimension M and N\"\"\"\n",
      "    # Converts N into a list of tuples of columns                                                                     \n",
      "    tuple_N = zip(*N)\n",
      "\n",
      "    # Nested list comprehension to calculate matrix multiplication                                                    \n",
      "    return [[np.sum(el_m * el_n for el_m, el_n in zip(row_m, col_n)) for col_n in tuple_N] for row_m in M]\n",
      "\n",
      "\n",
      "\n",
      "def householder(A):\n",
      "    \"\"\"Function which implements Householder Reflections based QR Decomposition of the                                               \n",
      "    matrix A. The function returns Q, an orthogonal matrix and R, an                                                  \n",
      "    upper triangular matrix such that A = QR.\"\"\"\n",
      "    n = len(A)\n",
      "\n",
      "    # Set R equal to A, and create Q as a zero matrix of the same size\n",
      "    R = A\n",
      "    Q = [[0.0] * n for i in xrange(n)]\n",
      "\n",
      "    # The Householder procedure\n",
      "    for k in range(n-1):  # We don't perform the procedure on a 1x1 matrix, so we reduce the index by 1\n",
      "        # Create identity matrix of same size as A                                                                    \n",
      "        I = [[float(i == j) for i in xrange(n)] for j in xrange(n)]\n",
      "\n",
      "        # Create the vectors x, e and the scalar alpha\n",
      "        # Python does not have a sgn function, so we use cmp instead\n",
      "        x = [row[k] for row in R[k:]]\n",
      "        e = [row[k] for row in I[k:]]\n",
      "        alpha = -cmp(x[0],0) * norm(x)\n",
      "\n",
      "        # Using anonymous functions, we create u and v\n",
      "        u = map(lambda p,q: p + alpha * q, x, e)\n",
      "        norm_u = norm(u)\n",
      "        v = map(lambda p: p/norm_u, u)\n",
      "\n",
      "        # Create the Q minor matrix\n",
      "        Q_min = [ [float(i==j) - 2.0 * v[i] * v[j] for i in xrange(n-k)] for j in xrange(n-k) ]\n",
      "\n",
      "        # \"Pad out\" the Q minor matrix with elements from the identity\n",
      "        Q_t = [[ Q_i(Q_min,i,j,k) for i in xrange(n)] for j in xrange(n)]\n",
      "\n",
      "        # If this is the first run through, right multiply by A,\n",
      "        # else right multiply by Q\n",
      "        if k == 0:\n",
      "            Q = Q_t\n",
      "            R = mult_matrix(Q_t,A)\n",
      "        else:\n",
      "            Q = mult_matrix(Q_t,Q)\n",
      "            R = mult_matrix(Q_t,R)\n",
      "\n",
      "    # Since Q is defined as the product of transposes of Q_t,\n",
      "    # we need to take the transpose upon returning it\n",
      "    return trans_matrix(Q), R\n",
      "\n",
      "A = [[12, -51, 4], [6, 167, -68], [-4, 24, -41]]\n",
      "Q, R = householder(A)\n",
      "\n",
      "print \"A:\"\n",
      "pprint(A)\n",
      "\n",
      "print \"Q:\"\n",
      "pprint(Q)\n",
      "\n",
      "print \"R:\"\n",
      "pprint(R)"
     ],
     "language": "python",
     "metadata": {},
     "outputs": [
      {
       "output_type": "stream",
       "stream": "stdout",
       "text": [
        "[12, 6, -4]\n",
        "[-2.0, 6.0, -4.0]\n",
        "[-49.000000000000014, 168.00000000000003]\n",
        "[126.00000000000001, 168.00000000000003]\n",
        "A:\n",
        "[[12, -51, 4], [6, 167, -68], [-4, 24, -41]]\n",
        "Q:\n",
        "[[0.8571428571428571, 0.39428571428571435, -0.33142857142857135],\n",
        " [0.4285714285714286, -0.9028571428571429, 0.034285714285714114],\n",
        " [-0.28571428571428575, -0.17142857142857126, -0.942857142857143]]\n",
        "R:\n",
        "[[13.999999999999998, 21.00000000000001, -14.000000000000004],\n",
        " [-5.506706202140776e-16, -175.00000000000003, 70.0],\n",
        " [3.0198066269804245e-16, -3.552713678800501e-14, 35.000000000000014]]\n"
       ]
      }
     ],
     "prompt_number": 80
    },
    {
     "cell_type": "markdown",
     "metadata": {},
     "source": [
      "####### We can easily verify that matrix Q is having orthogonal column and R is of triangular form. kindly note that lower traiangular values of matrix R is very small so we can treat it as zero"
     ]
    },
    {
     "cell_type": "markdown",
     "metadata": {},
     "source": [
      "###[1.2.c] QR decomposition (Demonstartion of tridigonal matrix)"
     ]
    },
    {
     "cell_type": "markdown",
     "metadata": {},
     "source": [
      "####In this subsection we try to conclude that some time conventional QR algorithm is not optomized for special kind of matrix we demonstrate it with a trigonal matrix and show that QR decomposition of it with Householder approach is faster than conventional method"
     ]
    },
    {
     "cell_type": "markdown",
     "metadata": {},
     "source": [
      "####Python code.........."
     ]
    },
    {
     "cell_type": "code",
     "collapsed": false,
     "input": [
      "import numpy as np\n",
      "\n",
      "def QR(A):\n",
      "    R = A.copy()\n",
      "    Q = np.eye(A.shape[0])\n",
      "\n",
      "    for i in xrange(A.shape[0] - 1):\n",
      "        u = normalizeMat(A[i:i+2, i])\n",
      "\n",
      "        R[i:i+2, :] = R[i:i+2, :] - 2 * np.outer(u, np.dot(u, R[i:i+2, :]))\n",
      "        Q[i:i+2, :] = Q[i:i+2, :] - 2 * np.outer(u, np.dot(u, Q[i:i+2, :]))\n",
      "\n",
      "    return Q.T, R\n",
      "\n",
      "def normalizeMat(x):\n",
      "    x[0] = x[0] + np.sign(x[0]) * np.linalg.norm(x)\n",
      "    x /= np.linalg.norm(x)\n",
      "    return x\n",
      "\n",
      "\n",
      "def main():\n",
      "    SIZE = 500\n",
      "    TRIALS = 5\n",
      "\n",
      "    subsup = np.random.rand(SIZE - 1)\n",
      "    diagonal = np.random.rand(SIZE)\n",
      "    T = np.diag(subsup, 1) + np.diag(subsup, -1) + np.diag(diagonal)\n",
      "    print T\n",
      "\n",
      "    import time\n",
      "    print \"excution time for standatd QR decomposition\",SIZE ,\"X\", SIZE,\"random triDigonal Matrix\"\n",
      "    for _ in xrange(TRIALS):\n",
      "        tic = time.clock()\n",
      "        #Q,R = QR(T)\n",
      "        #print Q\n",
      "        np.linalg.qr(T)\n",
      "        #luDecomposition(T)\n",
      "        print time.clock() - tic\n",
      "        \n",
      "    print \"excution time for Housholder QR decomposition\",SIZE ,\"X\", SIZE,\"random triDigonal Matrix\"   \n",
      "    for _ in xrange(TRIALS):\n",
      "        tic = time.clock()\n",
      "        Q,R = QR(T)\n",
      "        #print Q\n",
      "        #np.linalg.qr(T)\n",
      "        #luDecomposition(T)\n",
      "        print time.clock() - tic\n",
      "        \n",
      "\n",
      "\n",
      "\n",
      "if __name__ == '__main__':\n",
      "    main()"
     ],
     "language": "python",
     "metadata": {},
     "outputs": [
      {
       "output_type": "stream",
       "stream": "stdout",
       "text": [
        "[[ 0.30330438  0.67800508  0.         ...,  0.          0.          0.        ]\n",
        " [ 0.67800508  0.33295306  0.60646817 ...,  0.          0.          0.        ]\n",
        " [ 0.          0.60646817  0.88921293 ...,  0.          0.          0.        ]\n",
        " ..., \n",
        " [ 0.          0.          0.         ...,  0.72119392  0.45235451  0.        ]\n",
        " [ 0.          0.          0.         ...,  0.45235451  0.21424497\n",
        "   0.36600527]\n",
        " [ 0.          0.          0.         ...,  0.          0.36600527\n",
        "   0.63108179]]\n",
        "excution time for standatd QR decomposition 500 X 500 random triDigonal Matrix\n",
        "0.147711"
       ]
      },
      {
       "output_type": "stream",
       "stream": "stdout",
       "text": [
        "\n",
        "0.151758"
       ]
      },
      {
       "output_type": "stream",
       "stream": "stdout",
       "text": [
        "\n",
        "0.151251"
       ]
      },
      {
       "output_type": "stream",
       "stream": "stdout",
       "text": [
        "\n",
        "0.157562"
       ]
      },
      {
       "output_type": "stream",
       "stream": "stdout",
       "text": [
        "\n",
        "0.150961"
       ]
      },
      {
       "output_type": "stream",
       "stream": "stdout",
       "text": [
        "\n",
        "excution time for Housholder QR decomposition 500 X 500 random triDigonal Matrix\n",
        "0.0595"
       ]
      },
      {
       "output_type": "stream",
       "stream": "stdout",
       "text": [
        "\n",
        "0.060448"
       ]
      },
      {
       "output_type": "stream",
       "stream": "stdout",
       "text": [
        "\n",
        "0.060658"
       ]
      },
      {
       "output_type": "stream",
       "stream": "stdout",
       "text": [
        "\n",
        "0.061816"
       ]
      },
      {
       "output_type": "stream",
       "stream": "stdout",
       "text": [
        "\n",
        "0.061232"
       ]
      },
      {
       "output_type": "stream",
       "stream": "stdout",
       "text": [
        "\n"
       ]
      }
     ],
     "prompt_number": 81
    },
    {
     "cell_type": "markdown",
     "metadata": {},
     "source": [
      "#Section 2: (Jacobi and Gauss-Siedel methods) "
     ]
    },
    {
     "cell_type": "markdown",
     "metadata": {},
     "source": [
      "> In this Section we have written code for Jacobi and Gauss-Siedel methods\n",
      "> Later in this section we will study their convergence"
     ]
    },
    {
     "cell_type": "markdown",
     "metadata": {},
     "source": [
      "##[2.1] Jacobian"
     ]
    },
    {
     "cell_type": "markdown",
     "metadata": {},
     "source": [
      "####Python code for Jacobian......."
     ]
    },
    {
     "cell_type": "code",
     "collapsed": false,
     "input": [
      "import numpy as np\n",
      "\n",
      "def jacobian(A,b,x,iteration,threshold):\n",
      "    for itr_count in range(iteration):\n",
      "        print \"Solution after\" ,itr_count, \" iteration: \", list(x)\n",
      "        x_new = np.zeros_like(x)\n",
      " \n",
      "        for i in range(A.shape[0]):\n",
      "            var1 = np.dot(A[i, :i], x[:i])\n",
      "            var2 = np.dot(A[i, i + 1:], x[i + 1:])\n",
      "            x_new[i] = (b[i] - var1 - var2) / A[i, i]\n",
      " \n",
      "        if np.allclose(x, x_new, rtol=threshold):\n",
      "            print \"\\nThreshold approximation reached ending iteration..... \\n\" \n",
      "            break\n",
      " \n",
      "        x = x_new\n",
      "    return x\n",
      "    \n",
      "    \n",
      "A = np.array([[10., -1., 2., 0.],\n",
      "              [-1., 11., -1., 3.],\n",
      "              [2., -1., 10., -1.],\n",
      "              [0.0, 3., -1., 8.]])\n",
      "\n",
      "b = np.array([6., 25., -11., 15.])\n",
      "seed_x = np.zeros_like(b)\n",
      " \n",
      "val = jacobian(A,b,seed_x,1000,0.00001)\n",
      "print \"\\nFinal solution is = \", val\n"
     ],
     "language": "python",
     "metadata": {},
     "outputs": [
      {
       "output_type": "stream",
       "stream": "stdout",
       "text": [
        "Solution after 0  iteration:  [0.0, 0.0, 0.0, 0.0]\n",
        "Solution after 1  iteration:  [0.59999999999999998, 2.2727272727272729, -1.1000000000000001, 1.875]\n",
        "Solution after 2  iteration:  [1.0472727272727274, 1.7159090909090908, -0.80522727272727279, 0.88522727272727275]\n",
        "Solution after 3  iteration:  [0.9326363636363636, 2.0533057851239671, -1.0493409090909092, 1.1308806818181818]\n",
        "Solution after 4  iteration:  [1.0151987603305785, 1.9536957644628097, -0.96810862603305792, 0.97384271694214875]\n",
        "Solution after 5  iteration:  [0.98899130165289262, 2.0114147257700976, -1.0102859039256198, 1.0213505100723141]\n",
        "Solution after 6  iteration:  [1.0031986533621338, 1.9922412606827573, -0.99452173674633748, 0.99443373984551098]\n",
        "Solution after 7  iteration:  [0.99812847341754318, 2.0023068815526601, -1.0019722306195997, 1.0035943101506737]\n",
        "Solution after 8  iteration:  [1.0006251342791859, 1.9986703011223568, -0.99903557551317523, 0.99888839059030254]\n",
        "Solution after 9  iteration:  [0.99967414521487075, 2.0004476715450092, -1.0003691576845712, 1.0006191901399695]\n",
        "Solution after 10  iteration:  [1.0001185986914152, 1.9997679470100358, -0.9998281428744763, 0.99978597846005013]\n",
        "Solution after 11  iteration:  [0.99994242327589888, 2.0000847745851624, -1.0000683271912745, 1.0001085020119271]\n",
        "Solution after 12  iteration:  [1.000022142896771, 1.9999589627317134, -0.99996915699547095, 0.99995966863165475]\n",
        "Solution after 13  iteration:  [0.99998972767226557, 2.0000158163642126, -1.0000125654430172, 1.0000192443511735]\n",
        "Solution after 14  iteration:  [1.0000040947250246, 1.9999926753796116, -0.99999443946291444, 0.99999249818304325]\n",
        "Solution after 15  iteration:  [0.99999815543054404, 2.0000029237011798, -1.0000023015887394, 1.0000034417997814]\n",
        "\n",
        "Threshold approximation reached ending iteration..... \n",
        "\n",
        "\n",
        "Final solution is =  [ 0.99999816  2.00000292 -1.0000023   1.00000344]\n"
       ]
      }
     ],
     "prompt_number": 82
    },
    {
     "cell_type": "code",
     "collapsed": false,
     "input": [],
     "language": "python",
     "metadata": {},
     "outputs": [],
     "prompt_number": 82
    },
    {
     "cell_type": "markdown",
     "metadata": {},
     "source": [
      "##[2.2] Gauss-Seidel"
     ]
    },
    {
     "cell_type": "markdown",
     "metadata": {},
     "source": [
      "####Python code for Gauss......."
     ]
    },
    {
     "cell_type": "code",
     "collapsed": false,
     "input": [
      "import numpy as np\n",
      "\n",
      "def gauss(A,b,x,iteration,threshold):\n",
      "    for itr_count in range(iteration):\n",
      "        print \"Solution after\" ,itr_count, \" iteration: \", list(x)\n",
      "        x_new = np.zeros_like(x)\n",
      " \n",
      "        for i in range(A.shape[0]):\n",
      "            var1 = np.dot(A[i, :i], x_new[:i])\n",
      "            var2 = np.dot(A[i, i + 1:], x[i + 1:])\n",
      "            x_new[i] = (b[i] - var1 - var2) / A[i, i]\n",
      " \n",
      "        if np.allclose(x, x_new, rtol=threshold):\n",
      "            print \"\\nThreshold approximation reached ending iteration..... \\n\" \n",
      "            break\n",
      " \n",
      "        x = x_new\n",
      "    return x\n",
      "    \n",
      "    \n",
      "A = np.array([[10., -1., 2., 0.],\n",
      "              [-1., 11., -1., 3.],\n",
      "              [2., -1., 10., -1.],\n",
      "              [0.0, 3., -1., 8.]])\n",
      "\n",
      "b = np.array([6., 25., -11., 15.])\n",
      "seed_x = np.zeros_like(b)\n",
      " \n",
      "val = gauss(A,b,seed_x,1000,0.00001)\n",
      "print \"\\nFinal solution is = \", val"
     ],
     "language": "python",
     "metadata": {},
     "outputs": [
      {
       "output_type": "stream",
       "stream": "stdout",
       "text": [
        "Solution after 0  iteration:  [0.0, 0.0, 0.0, 0.0]\n",
        "Solution after 1  iteration:  [0.59999999999999998, 2.3272727272727276, -0.9872727272727273, 0.87886363636363629]\n",
        "Solution after 2  iteration:  [1.0301818181818183, 2.0369380165289255, -1.0144561983471074, 0.98434121900826443]\n",
        "Solution after 3  iteration:  [1.0065850413223141, 2.003555016904583, -1.0025273846731779, 0.99835094557663417]\n",
        "Solution after 4  iteration:  [1.0008609786250939, 2.000298250656547, -1.0003072761017007, 0.99984974649108227]\n",
        "Solution after 5  iteration:  [1.0000912802859949, 2.000021342246459, -1.0000311471834449, 0.99998810325964727]\n",
        "Solution after 6  iteration:  [1.0000083636613348, 2.0000011733362677, -1.0000027450726754, 0.99999921686481508]\n",
        "\n",
        "Threshold approximation reached ending iteration..... \n",
        "\n",
        "\n",
        "Final solution is =  [ 1.00000836  2.00000117 -1.00000275  0.99999922]\n"
       ]
      }
     ],
     "prompt_number": 83
    },
    {
     "cell_type": "markdown",
     "metadata": {},
     "source": [
      "##[2.3] Study of convergence"
     ]
    },
    {
     "cell_type": "markdown",
     "metadata": {},
     "source": [
      ">In this sub-section we will try to focus on convergence criterion for both Jacobian and Gauss method. Later in this sub-section we will also compare their performace. "
     ]
    },
    {
     "cell_type": "markdown",
     "metadata": {},
     "source": [
      "#####It is not always possible for both Jacobian and Gauss to converge in optimal soln. Lets take an example of matrix mentioned below. If we test for convergence we'll find that the algorithm diverges. In fact, the matrix A is neither diagonally dominant nor positive definite. Then, convergence to the exact solution X= inv(A)b = [-38,29] is not guaranteed and, in this case, will not occur."
     ]
    },
    {
     "cell_type": "markdown",
     "metadata": {},
     "source": [
      "#####Convergence test for Jacobian"
     ]
    },
    {
     "cell_type": "code",
     "collapsed": false,
     "input": [
      "A = np.array( [\n",
      "    [2, 3],\n",
      "    [5, 7]])\n",
      "\n",
      "b = np.array([11., 13.])\n",
      "seed_x = np.zeros_like(b)\n",
      " \n",
      "val = jacobian(A,b,seed_x,50,0.00001)\n",
      "print \"\\nFinal solution is = \", val\n",
      "print \"Theoretical soln is X= inv(A)b = [-38,29]\""
     ],
     "language": "python",
     "metadata": {},
     "outputs": [
      {
       "output_type": "stream",
       "stream": "stdout",
       "text": [
        "Solution after 0  iteration:  [0.0, 0.0]\n",
        "Solution after 1  iteration:  [5.5, 1.8571428571428572]\n",
        "Solution after 2  iteration:  [2.7142857142857144, -2.0714285714285716]\n",
        "Solution after 3  iteration:  [8.6071428571428577, -0.081632653061224705]\n",
        "Solution after 4  iteration:  [5.6224489795918373, -4.2908163265306127]\n",
        "Solution after 5  iteration:  [11.936224489795919, -2.1588921282798839]\n",
        "Solution after 6  iteration:  [8.7383381924198247, -6.6687317784256566]\n",
        "Solution after 7  iteration:  [15.503097667638485, -4.3845272802998752]\n",
        "Solution after 8  iteration:  [12.076790920449813, -9.2164983340274897]\n",
        "Solution after 9  iteration:  [19.324747501041234, -6.769136371749866]\n",
        "Solution after 10  iteration:  [15.653704557624799, -11.946248215029453]\n",
        "Solution after 11  iteration:  [23.419372322544177, -9.3240746840177131]\n",
        "Solution after 12  iteration:  [19.486112026026568, -14.870980230388698]\n",
        "Solution after 13  iteration:  [27.806470345583048, -12.061508590018978]\n",
        "Solution after 14  iteration:  [23.592262885028468, -18.004621675416463]\n",
        "Solution after 15  iteration:  [32.506932513124696, -14.994473489306049]\n",
        "Solution after 16  iteration:  [27.991710233959076, -21.362094652231924]\n",
        "Solution after 17  iteration:  [37.54314197834789, -18.136935881399342]\n",
        "Solution after 18  iteration:  [32.705403822099015, -24.959387127391349]\n",
        "Solution after 19  iteration:  [42.939080691087021, -21.503859872927869]\n",
        "Solution after 20  iteration:  [37.7557898093918, -28.813629065062155]\n",
        "Solution after 21  iteration:  [48.720443597593231, -25.111278435279853]\n",
        "Solution after 22  iteration:  [43.166917652919778, -32.943173998280876]\n",
        "Solution after 23  iteration:  [54.914760997421311, -28.976369752085557]\n",
        "Solution after 24  iteration:  [48.964554628128333, -37.367686426729506]\n",
        "Solution after 25  iteration:  [61.551529640094259, -33.117539020091662]\n",
        "Solution after 26  iteration:  [55.17630853013749, -42.108235457210185]\n",
        "Solution after 27  iteration:  [68.662353185815277, -37.55450609295535]\n",
        "Solution after 28  iteration:  [61.831759139433025, -47.1873951327252]\n",
        "Solution after 29  iteration:  [76.281092699087793, -42.308399385309308]\n",
        "Solution after 30  iteration:  [68.962599077963958, -52.629351927919856]\n",
        "Solution after 31  iteration:  [84.444027891879784, -47.401856484259966]\n",
        "Solution after 32  iteration:  [76.602784726389956, -58.460019922771274]\n",
        "Solution after 33  iteration:  [93.190029884156914, -52.859131947421396]\n",
        "Solution after 34  iteration:  [84.788697921132098, -64.707164202969224]\n",
        "Solution after 35  iteration:  [102.56074630445383, -58.706212800808643]\n",
        "Solution after 36  iteration:  [93.559319201212958, -71.400533074609868]\n",
        "Solution after 37  iteration:  [112.60079961191479, -64.97094228658068]\n",
        "Solution after 38  iteration:  [102.95641342987102, -78.571999722796278]\n",
        "Solution after 39  iteration:  [123.35799958419442, -71.683152449907865]\n",
        "Solution after 40  iteration:  [113.02472867486179, -86.255713988710298]\n",
        "Solution after 41  iteration:  [134.88357098306545, -78.874806196329843]\n",
        "Solution after 42  iteration:  [123.81220929449476, -94.488264987903904]\n",
        "Solution after 43  iteration:  [147.23239748185586, -86.580149496067676]\n",
        "Solution after 44  iteration:  [135.37022424410151, -103.30885534418276]\n",
        "Solution after 45  iteration:  [160.46328301627415, -94.835874460072517]\n",
        "Solution after 46  iteration:  [147.75381169010876, -112.75948786876724]\n",
        "Solution after 47  iteration:  [174.63923180315086, -103.6812940643634]\n",
        "Solution after 48  iteration:  [161.02194109654511, -122.88516557367919]\n",
        "Solution after 49  iteration:  [189.8277483605188, -113.15852935467508]\n",
        "\n",
        "Final solution is =  [ 175.23779403 -133.73410597]\n",
        "Theoretical soln is X= inv(A)b = [-38,29]\n"
       ]
      }
     ],
     "prompt_number": 84
    },
    {
     "cell_type": "markdown",
     "metadata": {},
     "source": [
      "#####Convergence test for Gauss"
     ]
    },
    {
     "cell_type": "code",
     "collapsed": false,
     "input": [
      "A = np.array( [\n",
      "    [2, 3],\n",
      "    [5, 7]])\n",
      "\n",
      "b = np.array([11., 13.])\n",
      "seed_x = np.zeros_like(b)\n",
      " \n",
      "val = gauss(A,b,seed_x,50,0.00001)\n",
      "print \"\\nFinal solution is = \", val\n",
      "print \"Theoretical soln is X= inv(A)b = [-38,29]\""
     ],
     "language": "python",
     "metadata": {},
     "outputs": [
      {
       "output_type": "stream",
       "stream": "stdout",
       "text": [
        "Solution after 0  iteration:  [0.0, 0.0]\n",
        "Solution after 1  iteration:  [5.5, -2.0714285714285716]\n",
        "Solution after 2  iteration:  [8.6071428571428577, -4.2908163265306127]\n",
        "Solution after 3  iteration:  [11.936224489795919, -6.6687317784256566]\n",
        "Solution after 4  iteration:  [15.503097667638485, -9.2164983340274897]\n",
        "Solution after 5  iteration:  [19.324747501041234, -11.946248215029453]\n",
        "Solution after 6  iteration:  [23.419372322544177, -14.870980230388698]\n",
        "Solution after 7  iteration:  [27.806470345583048, -18.004621675416463]\n",
        "Solution after 8  iteration:  [32.506932513124696, -21.362094652231924]\n",
        "Solution after 9  iteration:  [37.54314197834789, -24.959387127391349]\n",
        "Solution after 10  iteration:  [42.939080691087021, -28.813629065062155]\n",
        "Solution after 11  iteration:  [48.720443597593231, -32.943173998280876]\n",
        "Solution after 12  iteration:  [54.914760997421311, -37.367686426729506]\n",
        "Solution after 13  iteration:  [61.551529640094259, -42.108235457210185]\n",
        "Solution after 14  iteration:  [68.662353185815277, -47.1873951327252]\n",
        "Solution after 15  iteration:  [76.281092699087793, -52.629351927919856]\n",
        "Solution after 16  iteration:  [84.444027891879784, -58.460019922771274]\n",
        "Solution after 17  iteration:  [93.190029884156914, -64.707164202969224]\n",
        "Solution after 18  iteration:  [102.56074630445383, -71.400533074609868]\n",
        "Solution after 19  iteration:  [112.60079961191479, -78.571999722796278]\n",
        "Solution after 20  iteration:  [123.35799958419442, -86.255713988710298]\n",
        "Solution after 21  iteration:  [134.88357098306545, -94.488264987903904]\n",
        "Solution after 22  iteration:  [147.23239748185586, -103.30885534418276]\n",
        "Solution after 23  iteration:  [160.46328301627415, -112.75948786876724]\n",
        "Solution after 24  iteration:  [174.63923180315086, -122.88516557367919]\n",
        "Solution after 25  iteration:  [189.8277483605188, -133.73410597179915]\n",
        "Solution after 26  iteration:  [206.10115895769871, -145.35797068407052]\n",
        "Solution after 27  iteration:  [223.53695602610577, -157.81211144721843]\n",
        "Solution after 28  iteration:  [242.21816717082766, -171.15583369344833]\n",
        "Solution after 29  iteration:  [262.23375054017248, -185.45267895726604]\n",
        "Solution after 30  iteration:  [283.67901843589908, -200.77072745421361]\n",
        "Solution after 31  iteration:  [306.65609118132045, -217.18292227237174]\n",
        "Solution after 32  iteration:  [331.27438340855758, -234.7674167203983]\n",
        "Solution after 33  iteration:  [357.65112508059747, -253.60794648614106]\n",
        "Solution after 34  iteration:  [385.9119197292116, -273.79422837800831]\n",
        "Solution after 35  iteration:  [416.1913425670125, -295.42238754786609]\n",
        "Solution after 36  iteration:  [448.63358132179917, -318.59541522985654]\n",
        "Solution after 37  iteration:  [483.39312284478478, -343.42365917484625]\n",
        "Solution after 38  iteration:  [520.63548876226935, -370.02534911590664]\n",
        "Solution after 39  iteration:  [560.53802367385993, -398.52715976704286]\n",
        "Solution after 40  iteration:  [603.29073965056432, -429.06481403611735]\n",
        "Solution after 41  iteration:  [649.09722105417609, -461.78372932441147]\n",
        "Solution after 42  iteration:  [698.17559398661717, -496.83970999044084]\n",
        "Solution after 43  iteration:  [750.7595649856612, -534.39968927547227]\n",
        "Solution after 44  iteration:  [807.09953391320846, -574.64252422372033]\n",
        "Solution after 45  iteration:  [867.46378633558049, -617.7598473825575]\n",
        "Solution after 46  iteration:  [932.1397710738363, -663.95697933845452]\n",
        "Solution after 47  iteration:  [1001.4354690076818, -713.45390643405847]\n",
        "Solution after 48  iteration:  [1075.6808596510878, -766.48632832220551]\n",
        "Solution after 49  iteration:  [1155.2294924833081, -823.30678034522009]\n",
        "\n",
        "Final solution is =  [ 1240.46017052  -884.18583608]\n",
        "Theoretical soln is X= inv(A)b = [-38,29]\n"
       ]
      }
     ],
     "prompt_number": 85
    },
    {
     "cell_type": "markdown",
     "metadata": {},
     "source": [
      "#####Now to compare performance of both the algorithm, here we are defining function for jacobian and gauss algorithm once again only difference is that we are not printing any result just to reduce time complexity"
     ]
    },
    {
     "cell_type": "code",
     "collapsed": false,
     "input": [
      "def jacobianNoPrint(A,b,x,iteration,threshold):\n",
      "    for itr_count in range(iteration):\n",
      "        #print \"Solution after\" ,itr_count, \" iteration: \", list(x)\n",
      "        x_new = np.zeros_like(x)\n",
      " \n",
      "        for i in range(A.shape[0]):\n",
      "            var1 = np.dot(A[i, :i], x[:i])\n",
      "            var2 = np.dot(A[i, i + 1:], x[i + 1:])\n",
      "            x_new[i] = (b[i] - var1 - var2) / A[i, i]\n",
      " \n",
      "        if np.allclose(x, x_new, rtol=threshold):\n",
      "            #print \"\\nThreshold approximation reached ending iteration..... \\n\" \n",
      "            break\n",
      " \n",
      "        x = x_new\n",
      "    return x\n",
      "\n",
      "\n",
      "\n",
      "\n",
      "def gaussNoPrint(A,b,x,iteration,threshold):\n",
      "    for itr_count in range(iteration):\n",
      "        #print \"Solution after\" ,itr_count, \" iteration: \", list(x)\n",
      "        x_new = np.zeros_like(x)\n",
      " \n",
      "        for i in range(A.shape[0]):\n",
      "            var1 = np.dot(A[i, :i], x_new[:i])\n",
      "            var2 = np.dot(A[i, i + 1:], x[i + 1:])\n",
      "            x_new[i] = (b[i] - var1 - var2) / A[i, i]\n",
      " \n",
      "        if np.allclose(x, x_new, rtol=threshold):\n",
      "            #print \"\\nThreshold approximation reached ending iteration..... \\n\" \n",
      "            break\n",
      " \n",
      "        x = x_new\n",
      "    return x"
     ],
     "language": "python",
     "metadata": {},
     "outputs": [],
     "prompt_number": 86
    },
    {
     "cell_type": "markdown",
     "metadata": {},
     "source": [
      "#####Next we are defining three matrices of size 2x2, 3x3 and 4x4. then we try to perform jacobian and gauss algorithm to computer soln of eqn Ax = b. We perfom opertaion for each matrices 100 times and take its average to reduces and kind of harware based error."
     ]
    },
    {
     "cell_type": "code",
     "collapsed": false,
     "input": [
      "import time\n",
      "\n",
      "A2 = np.array( [\n",
      "    [16, 3],\n",
      "    [7, -11]])\n",
      "\n",
      "b2 = np.array([11., 13.])\n",
      "seed_x2 = np.zeros_like(b2)\n",
      " \n",
      "\n",
      "A3 = np.array( [\n",
      "    [12, -51, 4],\n",
      "    [6, 167, -68],\n",
      "    [-4, 24, -41]])\n",
      "\n",
      "b3 = np.array([6., 12., 1.])\n",
      "seed_x3 = np.zeros_like(b3)\n",
      " \n",
      "\n",
      "A4 = np.array([[10., -1., 2., 0.],\n",
      "              [-1., 11., -1., 3.],\n",
      "              [2., -1., 10., -1.],\n",
      "              [0.0, 3., -1., 8.]])\n",
      "\n",
      "b4 = np.array([6., 25., -11., 15.])\n",
      "seed_x4 = np.zeros_like(b4)\n",
      " \n",
      "    \n",
      "time_jac=[0,0,0];\n",
      "time_gauss=[0,0,0];\n",
      "\n",
      "for i in xrange(100):\n",
      "    start_time = time.time()\n",
      "    jacobianNoPrint(A2,b2,seed_x2,100,0.00001)    \n",
      "    time_jac[0] = time_jac[0] + (time.time() - start_time)\n",
      " \n",
      "    start_time = time.time()    \n",
      "    jacobianNoPrint(A3,b3,seed_x3,100,0.00001)\n",
      "    time_jac[1] = time_jac[1] + (time.time() - start_time)\n",
      "\n",
      "    start_time = time.time() \n",
      "    jacobianNoPrint(A4,b4,seed_x4,1000,0.00001)\n",
      "    time_jac[2] = time_jac[2] +(time.time() - start_time)\n",
      "\n",
      "time_jac = [x / 100 for x in time_jac]    \n",
      "\n",
      "\n",
      "\n",
      "for i in xrange(100):\n",
      "    start_time = time.time()\n",
      "    gaussNoPrint(A2,b2,seed_x2,100,0.00001)    \n",
      "    time_gauss[0] = time_gauss[0] + (time.time() - start_time)\n",
      " \n",
      "    start_time = time.time()    \n",
      "    gaussNoPrint(A3,b3,seed_x3,100,0.00001)\n",
      "    time_gauss[1] = time_gauss[1] + (time.time() - start_time)\n",
      "\n",
      "    start_time = time.time() \n",
      "    gaussNoPrint(A4,b4,seed_x4,1000,0.00001)\n",
      "    time_gauss[2] = time_gauss[2] +(time.time() - start_time)\n",
      "\n",
      "time_gauss = [x / 100 for x in time_gauss]\n",
      "  \n",
      "\n",
      "print \"compuation time in sec for 2X2, 3X3 and 4X4 matrices......\\n\"\n",
      "print \"Gauss......\"\n",
      "print time_gauss\n",
      "\n",
      "print \"Jacobian......\"\n",
      "print time_jac\n"
     ],
     "language": "python",
     "metadata": {},
     "outputs": [
      {
       "output_type": "stream",
       "stream": "stdout",
       "text": [
        "compuation time in sec for 2X2, 3X3 and 4X4 matrices......\n",
        "\n",
        "Gauss......\n",
        "[0.0006536650657653809, 0.0015273571014404296, 0.0007571148872375489]\n",
        "Jacobian......\n",
        "[0.001228787899017334, 0.002624661922454834, 0.001733541488647461]\n"
       ]
      }
     ],
     "prompt_number": 105
    },
    {
     "cell_type": "markdown",
     "metadata": {},
     "source": [
      "#####Below mentioned python code plots performance of both jacobian and gauss method"
     ]
    },
    {
     "cell_type": "code",
     "collapsed": false,
     "input": [
      "%matplotlib inline\n",
      "from scipy import optimize\n",
      "import random\n",
      "import matplotlib.pyplot as plt\n",
      "\n",
      "plt.plot([2,3,4], time_jac, 'go-', label='Jacobian',linewidth=2)\n",
      "plt.plot([2,3,4], time_gauss, 'rs-', label='Gauss')\n",
      "plt.axis([1, 5, 0, 0.005])\n",
      "\n",
      "plt.xlabel('n = matrix size [n,n]')\n",
      "plt.ylabel('time in seconds')\n",
      "plt.legend()\n",
      "plt.show()\n",
      "\n",
      "\n"
     ],
     "language": "python",
     "metadata": {},
     "outputs": [
      {
       "metadata": {},
       "output_type": "display_data",
       "png": "[encoded data removed]",
       "text": [
        "<matplotlib.figure.Figure at 0x7f6dec436f90>"
       ]
      }
     ],
     "prompt_number": 88
    },
    {
     "cell_type": "markdown",
     "metadata": {},
     "source": [
      "#####We can see that Gauss perform better than Jacobian in terms of time complexity"
     ]
    },
    {
     "cell_type": "code",
     "collapsed": false,
     "input": [],
     "language": "python",
     "metadata": {},
     "outputs": [],
     "prompt_number": 88
    },
    {
     "cell_type": "markdown",
     "metadata": {},
     "source": [
      "#Section 3: (Study of Optimization Algorithm) "
     ]
    },
    {
     "cell_type": "markdown",
     "metadata": {},
     "source": [
      "> In this subsection we Study about various optimization algorithm \n",
      "> We start our discussion with some of most sought after algorithm like Gradient Discent and Newton algorithms and gradually inch towards some of alternative technique like conjugate gradient, BFGS, Nelder-Mead etc.\n",
      "> We end our discussion with comparing all the mentioned algorithm"
     ]
    },
    {
     "cell_type": "markdown",
     "metadata": {},
     "source": [
      "##[3.1] 3D curve plot"
     ]
    },
    {
     "cell_type": "markdown",
     "metadata": {},
     "source": [
      "#####Python code to plot f (x, y) = (x \u2212 2)^2 sin^2 (y \u2212 1) + x^2 + y^2......"
     ]
    },
    {
     "cell_type": "code",
     "collapsed": false,
     "input": [
      "%matplotlib inline\n",
      "from mpl_toolkits.mplot3d import Axes3D\n",
      "import numpy as np\n",
      "import scipy\n",
      "from sympy.mpmath import *\n",
      "from pylab import meshgrid, figure, show\n",
      "\n",
      "# the function that I'm going to plot\n",
      "def f1(x,y):\n",
      " return ((x-2)**2)*((np.sin(y-1))**2) + x**2 + y**2\n",
      " \n",
      "def f2(x,y):\n",
      " return ((x-2)**2)*(sin((y-1)**2)) + x**2 + y**2\n",
      "\n",
      "\n",
      "\n",
      "\n",
      "x = np.arange(-2.0,2.0,0.1)\n",
      "y = np.arange(-2.0,2.0,0.1)\n",
      "\n",
      "X,Y = meshgrid(x, y) # grid of point\n",
      "Z = f1(X, Y) # evaluation of the function on the grid\n",
      "\n",
      "figu= figure()\n",
      "ax = Axes3D(figu)\n",
      "ax.plot_surface(X,Y,Z)\n",
      "ax.set_xlabel(\"x ----->\")\n",
      "ax.set_ylabel(\"y ----->\")\n",
      "ax.set_zlabel(\"f(x,y) ----->\")\n",
      "\n",
      "show()\n",
      "\n"
     ],
     "language": "python",
     "metadata": {},
     "outputs": [
      {
       "metadata": {},
       "output_type": "display_data",
       "png": "[encoded data removed]",
       "text": [
        "<matplotlib.figure.Figure at 0x7f6de7523390>"
       ]
      }
     ],
     "prompt_number": 89
    },
    {
     "cell_type": "markdown",
     "metadata": {},
     "source": [
      "##[3.2] Optimization Algorithm"
     ]
    },
    {
     "cell_type": "markdown",
     "metadata": {},
     "source": [
      "###[3.2.a] Hessian and Gradient Matrix"
     ]
    },
    {
     "cell_type": "markdown",
     "metadata": {},
     "source": [
      "####Python code for Gradient calculation, Hessian Matrix etc.... which we are going to use in our Optimization algorithm later in this section"
     ]
    },
    {
     "cell_type": "code",
     "collapsed": false,
     "input": [
      "#function for gradient calculation (dz/dx or dz/dx )\n",
      "def myGradient(x,y):   \n",
      "    z = f1(x,y)\n",
      "    gr_x, gr_y = np.gradient(z,0.1,0.1) \n",
      "    return gr_x, gr_y\n",
      "\n",
      "#function for double gradient calculation (dz/dxdy)\n",
      "def calculateGradient(x,y, gradeX, gradeY):  \n",
      "    res = diff(lambda x,y: ((x-2)**2)*((sin(y-1))**2) + x**2 + y**2, (x,y), (gradeX,gradeY) )\n",
      "    return res\n",
      " \n",
      "#function for double gradient calculation (dz/dydx)\n",
      "def calculateGradientYX(y,x, gradeX, gradeY):\n",
      "    res = diff(lambda y,x: ((x-2)**2)*((sin(y-1))**2) + x**2 + y**2, (y,x), (gradeX,gradeY) )\n",
      "    return res\n",
      "\n",
      "#function for gradient matrix calculation \n",
      "def gradientXY(x,y):\n",
      "    d_x =  calculateGradient(x,y, 1,0)\n",
      "    d_y =  calculateGradient(x,y, 0,1)\n",
      "    #return d_x,d_y\n",
      "    return np.mat([[d_x],[d_y]])\n",
      "\n",
      "#function for Hessian matrix calculation     \n",
      "def hessianMatrix(x,y):\n",
      "    \n",
      "    d_2_x = calculateGradient(x,y, 2,0)\n",
      "    d_2_y = calculateGradient(x,y, 0,2)\n",
      "    \n",
      "    d_x_y = calculateGradient(x,y, 1,1)\n",
      "    d_y_x = calculateGradientYX(y,x, 1,1)\n",
      "    return np.mat([[d_2_x,d_x_y],[d_y_x,d_2_y]])\n"
     ],
     "language": "python",
     "metadata": {},
     "outputs": [],
     "prompt_number": 90
    },
    {
     "cell_type": "markdown",
     "metadata": {},
     "source": [
      "###[3.2.a] Gradient Discent, Newton and Polak\u2013Ribi\u00e8re Algortihm (Nonlinear conjugate gradient method)"
     ]
    },
    {
     "cell_type": "markdown",
     "metadata": {},
     "source": [
      "####Python code......."
     ]
    },
    {
     "cell_type": "code",
     "collapsed": false,
     "input": [
      "#Gradient discent method\n",
      "def optimGradient(seed,thershold,itrNum,alpha):\n",
      "    sol = seed\n",
      "    for i in range(itrNum):\n",
      "        sol = sol - alpha*(gradientXY(sol[0,0],sol[1,0]))\n",
      "        #print sol  \n",
      "    return sol[0,0],sol[1,0],f2(sol[0,0],sol[1,0]) \n",
      "\n",
      "\n",
      "\n",
      "#Newton method\n",
      "def optimNewton(seed,thershold,itrNum):\n",
      "    sol = seed\n",
      "    for i in range(itrNum):\n",
      "        sol = sol - (np.linalg.inv(hessianMatrix(sol[0,0],sol[1,0])))*(gradientXY(sol[0,0],sol[1,0]))\n",
      "        #print sol\n",
      "    return sol[0,0],sol[1,0],f2(sol[0,0],sol[1,0])\n",
      "         \n",
      "\n",
      "    \n",
      "#Polak\u2013Ribi\u00e8re  method (nonlinear conjugate gradient method)    \n",
      "def optimPolak(seed,thershold,itrNum,alpha,pk):\n",
      "    sol_1 = seed\n",
      "    for i in range(itrNum):\n",
      "        sol = sol_1\n",
      "        sol_1 = sol - alpha*pk\n",
      "        beta_1 =np.multiply(gradientXY(sol[0,0],sol[1,0]),(gradientXY(sol[0,0],sol[1,0]) - gradientXY(sol[0,0],sol[1,0]))) /power(gradientXY(sol[0,0],sol[1,0]),2) \n",
      "        pk = beta_1*pk - gradientXY(sol[0,0],sol[1,0])\n",
      "        \n",
      "        \n",
      "        #print sol  \n",
      "    return sol[0,0],sol[1,0],f2(sol[0,0],sol[1,0])      \n",
      "\n",
      "\n",
      "\n",
      "\n",
      "\n"
     ],
     "language": "python",
     "metadata": {},
     "outputs": [],
     "prompt_number": 91
    },
    {
     "cell_type": "markdown",
     "metadata": {},
     "source": [
      "##### Standard output optimization algorithm mentioned above optimized for "
     ]
    },
    {
     "cell_type": "markdown",
     "metadata": {},
     "source": [
      "#####Python code"
     ]
    },
    {
     "cell_type": "code",
     "collapsed": false,
     "input": [
      "x = np.arange(-5.0,5.0,0.1)\n",
      "y = np.arange(-5.0,5.0,0.1)\n",
      "\n",
      "\n",
      "[GX, GY] = myGradient(X,Y)\n",
      "#print GX,GY\n",
      "#print calculateGradient(0,0, 1,1)\n",
      "\n",
      "#for i in range(len(x)):\n",
      "    #print hessianMatrix(x[i],y[i]) * gradientXY(x[i],y[i])\n",
      "    \n",
      "#print gradientXY(0,1)\n",
      "seed = np.mat([[1],[1]])\n",
      "print \"seed value = \\n\", seed\n",
      "\n",
      "print \"Newton method result\"\n",
      "print \"x =\" ,optimNewton(seed,1,100)[0],\",y =\",optimNewton(seed,1,100)[1],\",Optimized Z = \",optimNewton(seed,1,100)[2]\n",
      "print \"Gradient discent method result\"\n",
      "print \"x =\" ,optimGradient(seed,1,1000,0.1)[0],\",y =\",optimGradient(seed,1,1000,0.1)[1],\",Optimized Z = \",optimGradient(seed,1,1000,0.1)[2]\n",
      "#print optimPolak(seed,1,100,0.1,0.2)"
     ],
     "language": "python",
     "metadata": {},
     "outputs": [
      {
       "output_type": "stream",
       "stream": "stdout",
       "text": [
        "seed value = \n",
        "[[1]\n",
        " [1]]\n",
        "Newton method result\n",
        "x = "
       ]
      },
      {
       "output_type": "stream",
       "stream": "stdout",
       "text": [
        "0.0917281185957221 ,y = "
       ]
      },
      {
       "output_type": "stream",
       "stream": "stdout",
       "text": [
        "0.778958689661968 ,Optimized Z =  "
       ]
      },
      {
       "output_type": "stream",
       "stream": "stdout",
       "text": [
        "0.793040982066084\n",
        "Gradient discent method result\n",
        "x = "
       ]
      },
      {
       "output_type": "stream",
       "stream": "stdout",
       "text": [
        "0.0917281185957221 ,y = "
       ]
      },
      {
       "output_type": "stream",
       "stream": "stdout",
       "text": [
        "0.778958689661968 ,Optimized Z =  "
       ]
      },
      {
       "output_type": "stream",
       "stream": "stdout",
       "text": [
        "0.793040982066084\n"
       ]
      }
     ],
     "prompt_number": 92
    },
    {
     "cell_type": "markdown",
     "metadata": {},
     "source": [
      "##[3.3] Performance analysis of Optimization Algorithm"
     ]
    },
    {
     "cell_type": "markdown",
     "metadata": {},
     "source": [
      ">In this section we will compare performance of various optomization algorithm like CG,BFGS, Nelder,Powell etc. We also plot all these comparision details i.e error in computation vs number of iteration and total number of function call vs number of iteration "
     ]
    },
    {
     "cell_type": "markdown",
     "metadata": {},
     "source": [
      "###[3.3.a] Downhill simplex algorithm "
     ]
    },
    {
     "cell_type": "markdown",
     "metadata": {},
     "source": [
      ">Minimize a function using the downhill simplex algorithm \n",
      ">Plot its convergence"
     ]
    },
    {
     "cell_type": "code",
     "collapsed": false,
     "input": [
      "def f1min(c):\n",
      " return ((c[0]-2)**2)*((np.sin(c[1]-1))**2) + c[0]**2 + c[1]**2"
     ],
     "language": "python",
     "metadata": {},
     "outputs": [],
     "prompt_number": 93
    },
    {
     "cell_type": "code",
     "collapsed": false,
     "input": [
      "from scipy import optimize\n",
      "import random\n",
      "import matplotlib.pyplot as plt\n",
      "\n",
      "seed_x = random.uniform(-50, 50)\n",
      "seed_y = random.uniform(-50, 50)\n",
      "x_itr = []\n",
      "y_error =  []\n",
      "y_funCall =[]\n",
      "trueMin = 0.79023287739133452\n",
      "\n",
      "for i in xrange(100):\n",
      "    xopt, fopt, itr, funcalls, warnflag = optimize.fmin(f1min, [seed_x, seed_y],xtol=1e-10,maxiter =i,full_output=True, disp = False)\n",
      "    x_itr.append(i)\n",
      "    y_error.append(float(abs(trueMin - fopt)))\n",
      "    y_funCall.append(funcalls)\n",
      "    \n",
      "#plt.plot(x_itr, y_error, 'go-', label='line 1', linewidth=2)\n",
      "plt.plot(x_itr, y_funCall, 'rs-',  label='line 2')\n",
      "#plt.axis([0, 4, 0, 10])\n",
      "plt.legend()\n",
      "plt.xlabel('no of iteration')\n",
      "plt.ylabel('% error')\n",
      "\n",
      "\n",
      "plt.subplot(1, 2, 1)\n",
      "plt.semilogy(x_itr, y_error, 'ko-')\n",
      "plt.title('Absolute Error plot')\n",
      "plt.xlabel('no of iteration')\n",
      "plt.ylabel('absolute error')\n",
      "\n",
      "plt.subplot(1, 2, 2)\n",
      "plt.plot(x_itr, y_funCall, 'r.-')\n",
      "plt.title('No of function call plot')\n",
      "plt.xlabel('no of iteration')\n",
      "plt.ylabel('no of function calls')\n",
      "\n",
      "plt.show()\n",
      "\n",
      "    \n",
      "    "
     ],
     "language": "python",
     "metadata": {},
     "outputs": [
      {
       "metadata": {},
       "output_type": "display_data",
       "png": "[encoded data removed]",
       "text": [
        "<matplotlib.figure.Figure at 0x7f6de7523ed0>"
       ]
      }
     ],
     "prompt_number": 94
    },
    {
     "cell_type": "markdown",
     "metadata": {},
     "source": [
      "###[3.3.b] modified Powell\u2019s method"
     ]
    },
    {
     "cell_type": "markdown",
     "metadata": {},
     "source": [
      ">Minimize a function using modified Powell\u2019s method. (This method only uses function values, not derivatives.)\n",
      ">Plot its convergence"
     ]
    },
    {
     "cell_type": "code",
     "collapsed": false,
     "input": [
      "from scipy import optimize\n",
      "import random\n",
      "import matplotlib.pyplot as plt\n",
      "\n",
      "#seed_x = random.uniform(-50, 50)\n",
      "#seed_y = random.uniform(-50, 50)\n",
      "x_itr = []\n",
      "y_error =  []\n",
      "y_funCall =[]\n",
      "trueMin = 0.79023287739133452\n",
      "\n",
      "for i in xrange(100):\n",
      "    res = optimize.minimize(f1min, [seed_x, seed_y],method ='Powell',options={'gtol': 1e-10, 'disp': False,'maxiter':i })\n",
      "    x_itr.append(i)\n",
      "    y_error.append(float(abs(trueMin - res.fun)))\n",
      "    y_funCall.append(res.nfev)\n",
      "    \n",
      "\n",
      "\n",
      "plt.subplot(1, 2, 1)\n",
      "plt.semilogy(x_itr, y_error, 'ko-')\n",
      "plt.title('Absolute Error plot')\n",
      "plt.xlabel('no of iteration')\n",
      "plt.ylabel('absolute error')\n",
      "\n",
      "plt.subplot(1, 2, 2)\n",
      "plt.plot(x_itr, y_funCall, 'r.-')\n",
      "plt.title('No of function call plot')\n",
      "plt.xlabel('no of iteration')\n",
      "plt.ylabel('no of function calls')\n",
      "\n",
      "plt.show()"
     ],
     "language": "python",
     "metadata": {},
     "outputs": [
      {
       "metadata": {},
       "output_type": "display_data",
       "png": "[encoded data removed]",
       "text": [
        "<matplotlib.figure.Figure at 0x7f6de751bd50>"
       ]
      }
     ],
     "prompt_number": 95
    },
    {
     "cell_type": "markdown",
     "metadata": {},
     "source": [
      "###[3.3.c] Nelder-Mead algorithm "
     ]
    },
    {
     "cell_type": "markdown",
     "metadata": {},
     "source": [
      ">Minimize a function using the Nelder-Mead algorithm \n",
      ">Plot its convergence"
     ]
    },
    {
     "cell_type": "code",
     "collapsed": false,
     "input": [
      "from scipy import optimize\n",
      "import random\n",
      "import matplotlib.pyplot as plt\n",
      "\n",
      "#seed_x = random.uniform(-50, 50)\n",
      "#seed_y = random.uniform(-50, 50)\n",
      "x_itr = []\n",
      "y_error =  []\n",
      "y_funCall =[]\n",
      "trueMin = 0.79023287739133452\n",
      "\n",
      "for i in xrange(100):\n",
      "    res = optimize.minimize(f1min, [seed_x, seed_y],method ='Nelder-Mead',options={'gtol': 1e-10, 'disp': False,'maxiter':i })\n",
      "    x_itr.append(i)\n",
      "    y_error.append(float(abs(trueMin - res.fun)))\n",
      "    y_funCall.append(res.nfev)\n",
      "    \n",
      "\n",
      "\n",
      "plt.subplot(1, 2, 1)\n",
      "plt.semilogy(x_itr, y_error, 'ko-')\n",
      "plt.title('Absolute Error plot')\n",
      "plt.xlabel('no of iteration')\n",
      "plt.ylabel('absolute error')\n",
      "\n",
      "plt.subplot(1, 2, 2)\n",
      "plt.plot(x_itr, y_funCall, 'r.-')\n",
      "plt.title('No of function call plot')\n",
      "plt.xlabel('no of iteration')\n",
      "plt.ylabel('no of function calls')\n",
      "\n",
      "plt.show()"
     ],
     "language": "python",
     "metadata": {},
     "outputs": [
      {
       "metadata": {},
       "output_type": "display_data",
       "png": "[encoded data removed]",
       "text": [
        "<matplotlib.figure.Figure at 0x7f6de781e6d0>"
       ]
      }
     ],
     "prompt_number": 96
    },
    {
     "cell_type": "markdown",
     "metadata": {},
     "source": [
      "###[3.3.d] CG algorithm "
     ]
    },
    {
     "cell_type": "markdown",
     "metadata": {},
     "source": [
      ">Minimize a function using the CG algorithm \n",
      ">Plot its convergence"
     ]
    },
    {
     "cell_type": "code",
     "collapsed": false,
     "input": [
      "from scipy import optimize\n",
      "import random\n",
      "import matplotlib.pyplot as plt\n",
      "\n",
      "#seed_x = random.uniform(-50, 50)\n",
      "#seed_y = random.uniform(-50, 50)\n",
      "x_itr = []\n",
      "y_error =  []\n",
      "y_funCall =[]\n",
      "trueMin = 0.79023287739133452\n",
      "\n",
      "for i in xrange(100):\n",
      "    res = optimize.minimize(f1min, [seed_x, seed_y],method ='CG',options={'gtol': 1e-10, 'disp': False,'maxiter':i })\n",
      "    x_itr.append(i)\n",
      "    y_error.append(float(abs(trueMin - res.fun)))\n",
      "    y_funCall.append(res.nfev)\n",
      "    \n",
      "\n",
      "\n",
      "plt.subplot(1, 2, 1)\n",
      "plt.semilogy(x_itr, y_error, 'ko-')\n",
      "plt.title('Absolute Error plot')\n",
      "plt.xlabel('no of iteration')\n",
      "plt.ylabel('absolute error')\n",
      "\n",
      "plt.subplot(1, 2, 2)\n",
      "plt.plot(x_itr, y_funCall, 'r.-')\n",
      "plt.title('No of function call plot')\n",
      "plt.xlabel('no of iteration')\n",
      "plt.ylabel('no of function calls')\n",
      "\n",
      "plt.show()"
     ],
     "language": "python",
     "metadata": {},
     "outputs": [
      {
       "metadata": {},
       "output_type": "display_data",
       "png": "[encoded data removed]",
       "text": [
        "<matplotlib.figure.Figure at 0x7f6de7803a50>"
       ]
      }
     ],
     "prompt_number": 97
    },
    {
     "cell_type": "markdown",
     "metadata": {},
     "source": [
      "###[3.3.e] BFGS algorithm "
     ]
    },
    {
     "cell_type": "markdown",
     "metadata": {},
     "source": [
      ">Minimize a function using the BFGS algorithm \n",
      ">Plot its convergence"
     ]
    },
    {
     "cell_type": "code",
     "collapsed": false,
     "input": [
      "from scipy import optimize\n",
      "import random\n",
      "import matplotlib.pyplot as plt\n",
      "\n",
      "\n",
      "#seed_x = random.uniform(-50, 50)\n",
      "#seed_y = random.uniform(-50, 50)\n",
      "x_itr = []\n",
      "y_error =  []\n",
      "y_funCall =[]\n",
      "trueMin = 0.79023287739133452\n",
      "\n",
      "for i in xrange(100):\n",
      "    res = optimize.minimize(f1min, [seed_x, seed_y],method ='BFGS',options={'gtol': 1e-10, 'disp': False,'maxiter':i })\n",
      "    x_itr.append(i)\n",
      "    y_error.append(float(abs(trueMin - res.fun)))\n",
      "    y_funCall.append(res.nfev)\n",
      "    \n",
      "\n",
      "\n",
      "plt.subplot(1, 2, 1)\n",
      "plt.semilogy(x_itr, y_error, 'ko-')\n",
      "plt.title('Absolute Error plot')\n",
      "plt.xlabel('no of iteration')\n",
      "plt.ylabel('absolute error')\n",
      "\n",
      "plt.subplot(1, 2, 2)\n",
      "plt.plot(x_itr, y_funCall, 'r.-')\n",
      "plt.title('No of function call plot')\n",
      "plt.xlabel('no of iteration')\n",
      "plt.ylabel('no of function calls')\n",
      "\n",
      "plt.show()"
     ],
     "language": "python",
     "metadata": {},
     "outputs": [
      {
       "metadata": {},
       "output_type": "display_data",
       "png": "[encoded data removed]",
       "text": [
        "<matplotlib.figure.Figure at 0x7f6dec436f90>"
       ]
      }
     ],
     "prompt_number": 98
    },
    {
     "cell_type": "markdown",
     "metadata": {},
     "source": [
      "###[3.4] Relative comparision with each other.."
     ]
    },
    {
     "cell_type": "markdown",
     "metadata": {},
     "source": [
      ">In this sub-section we compare execution of CG, Powell, BFS and Nelder \n",
      ">We print all these result "
     ]
    },
    {
     "cell_type": "code",
     "collapsed": false,
     "input": [
      "import time\n",
      "sum_powell =0;\n",
      "sum_CG =0;\n",
      "sum_BFGS =0;\n",
      "sum_nelder =0;\n",
      "seed_x =100\n",
      "seed_y =100\n",
      "\n",
      "for i in xrange(500):\n",
      "    start_time = time.time()\n",
      "    optimize.minimize(f1min, [seed_x, seed_y],method ='Powell',options={'gtol': 1e-10, 'disp': False })\n",
      "    sum_powell = sum_powell + time.time() - start_time\n",
      "    \n",
      "    start_time = time.time()\n",
      "    optimize.minimize(f1min, [seed_x, seed_y],method ='CG',options={'gtol': 1e-10, 'disp': False })\n",
      "    sum_CG = sum_CG + time.time() - start_time\n",
      "    \n",
      "    start_time = time.time()\n",
      "    optimize.minimize(f1min, [seed_x, seed_y],method ='BFGS',options={'gtol': 1e-10, 'disp': False })\n",
      "    sum_BFGS = sum_BFGS + time.time() - start_time\n",
      "    \n",
      "    start_time = time.time()\n",
      "    optimize.minimize(f1min, [seed_x, seed_y],method ='Nelder-Mead',options={'gtol': 1e-10, 'disp': False })\n",
      "    sum_nelder = sum_nelder + time.time() - start_time\n",
      "    \n",
      "\n",
      "    \n",
      "print 'average time for Powell algorithm = ',sum_powell/500\n",
      "print 'average time for CG algorithm = ',sum_CG/500\n",
      "print 'average time for BFGS algorithm =',sum_BFGS/500\n",
      "print 'average time for Nelder algorithm =',sum_nelder/500\n",
      "    \n",
      "    \n",
      "    \n",
      "    "
     ],
     "language": "python",
     "metadata": {},
     "outputs": [
      {
       "output_type": "stream",
       "stream": "stdout",
       "text": [
        "average time for Powell algorithm =  0.00443548870087\n",
        "average time for CG algorithm =  0.00678419876099\n",
        "average time for BFGS algorithm = 0.0103806705475\n",
        "average time for Nelder algorithm = 0.00736451530457\n"
       ]
      }
     ],
     "prompt_number": 99
    },
    {
     "cell_type": "markdown",
     "metadata": {},
     "source": [
      "####Conclusion:\n",
      "> Although above mentioned result shows that Powell algorithm perform better than other algorithm but we can not generalize this statement. In other word perfomance of Optimization problem depends on various factors like selection of seed value, number of variable in our optimization function etc. also if a method perform better for linear optimization we cant generalize that it will perform better for non linear optimization. Last but not least in Optimization problem we also conserned about global optimization result rather than local optimized value. Simulated anneling is one such algorithm which perform better in case of Global optimization.All of these discussion is currently out of scope of this basic introductory course."
     ]
    },
    {
     "cell_type": "code",
     "collapsed": false,
     "input": [],
     "language": "python",
     "metadata": {},
     "outputs": [],
     "prompt_number": 99
    },
    {
     "cell_type": "markdown",
     "metadata": {},
     "source": [
      "#Section 4: Acknowledgement\n",
      ">This report is part of <span style=\"color:green\">Numerical Analysis and Optimization with Python</span> course.  Author of this report would like to acknowledge <span style=\"color:green\"> Proffesor Thierry CHONAVEL</span> to share his valuable knowledge with us.\n",
      "\n",
      "###Author\n",
      "#####Sitesh Indra.\n",
      "#####Ahmad Hassan."
     ]
    },
    {
     "cell_type": "code",
     "collapsed": false,
     "input": [],
     "language": "python",
     "metadata": {},
     "outputs": [],
     "prompt_number": 99
    }
   ],
   "metadata": {}
  }
 ]
}